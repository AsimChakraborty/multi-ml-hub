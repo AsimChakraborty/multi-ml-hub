{
 "cells": [
  {
   "cell_type": "code",
   "execution_count": null,
   "id": "804eb6cd",
   "metadata": {
    "vscode": {
     "languageId": "plaintext"
    }
   },
   "outputs": [],
   "source": [
    "\n",
    "from langchain_community.chat_models import ChatOllama\n",
    "from langchain.prompts import PromptTemplate\n",
    "from langchain.chains import LLMChain\n",
    "from sentence_transformers import SentenceTransformer\n",
    "import faiss\n",
    "import numpy as np\n",
    "\n",
    "# Step 1: Load embedding model and LLM\n",
    "embed_model = SentenceTransformer('all-MiniLM-L6-v2')\n",
    "llm = ChatOllama(model=\"gemma3:4b\")\n",
    "\n",
    "# Step 2: Create sample context chunks\n",
    "chunks = [\n",
    "    \"The Eiffel Tower is located in Paris.\",\n",
    "    \"Python is a programming language used for data science.\",\n",
    "    \"OpenAI develops large language models like ChatGPT.\",\n",
    "    \"The Great Wall of China is visible from space.\",\n",
    "    \"Water boils at 100 degrees Celsius under standard conditions.\",\n",
    "    \"The mitochondrion is the powerhouse of the cell.\",\n",
    "    \"Mount Everest is the tallest mountain above sea level.\",\n",
    "    \"Shakespeare wrote Hamlet and Macbeth.\",\n",
    "    \"Tesla produces electric vehicles and solar products.\",\n",
    "    \"Amazon is a large online retailer founded by Jeff Bezos.\",\n",
    "    \"The Moon orbits the Earth approximately every 27.3 days.\",\n",
    "    \"The speed of light is about 299,792 kilometers per second.\",\n",
    "    \"Albert Einstein developed the theory of relativity.\",\n",
    "    \"Venus is the second planet from the Sun.\",\n",
    "    \"The Pacific Ocean is the largest and deepest ocean on Earth.\",\n",
    "    \"Bacteria are single-celled microorganisms.\",\n",
    "    \"The capital of Japan is Tokyo.\",\n",
    "    \"Photosynthesis occurs in the chloroplasts of plant cells.\",\n",
    "    \"Leonardo da Vinci painted the Mona Lisa.\",\n",
    "    \"Bitcoin is a decentralized digital currency.\"\n",
    "]\n",
    "\n",
    "# Step 3: Embed chunks and index them\n",
    "chunk_vectors = embed_model.encode(chunks)\n",
    "index = faiss.IndexFlatL2(chunk_vectors.shape[1])\n",
    "index.add(np.array(chunk_vectors))\n",
    "\n",
    "# Step 4: Define prompt template\n",
    "template = \"\"\"Use the following context to answer the question:\n",
    "Context: {context}\n",
    "Question: {question}\n",
    "Answer:\"\"\"\n",
    "prompt = PromptTemplate.from_template(template)\n",
    "chain = LLMChain(llm=llm, prompt=prompt)\n",
    "\n",
    "# Step 5: Define questions and run chain with retrieved context\n",
    "questions = [\n",
    "    \"Where is the Eiffel Tower?\",\n",
    "    \"Who painted the Mona Lisa?\",\n",
    "    \"What does Tesla produce?\",\n",
    "    \"What is the speed of light?\",\n",
    "    \"Where does photosynthesis happen in plant cells?\"\n",
    "]\n",
    "\n"
   ]
  },
  {
   "cell_type": "code",
   "execution_count": null,
   "id": "91f9d3bf",
   "metadata": {
    "vscode": {
     "languageId": "plaintext"
    }
   },
   "outputs": [],
   "source": [
    "# Run the chain and print results nicely\n",
    "results = []\n",
    "for question in questions:\n",
    "    query_vec = embed_model.encode([question])\n",
    "    _, idx = index.search(np.array(query_vec), k=1)\n",
    "    top_chunk = chunks[idx[0][0]]\n",
    "    answer = chain.run(context=top_chunk, question=question).strip()\n",
    "    results.append((question, top_chunk, answer))\n",
    "\n",
    "# Nicely formatted output\n",
    "for i, (question, context, answer) in enumerate(results, 1):\n",
    "    print(f\"🧠 Question {i}: {question}\")\n",
    "    print(f\"📚 Retrieved Context: {context}\")\n",
    "    print(f\"✅ Answer: {answer}\")\n",
    "    print(\"-\" * 70)\n"
   ]
  },
  {
   "cell_type": "code",
   "execution_count": null,
   "id": "a005a3c3",
   "metadata": {
    "vscode": {
     "languageId": "plaintext"
    }
   },
   "outputs": [],
   "source": [
    "🧠 Question 1: Where is the Eiffel Tower?\n",
    "📚 Retrieved Context: The Eiffel Tower is located in Paris.\n",
    "✅ Answer: Paris.\n",
    "----------------------------------------------------------------------\n",
    "🧠 Question 2: Who painted the Mona Lisa?\n",
    "📚 Retrieved Context: Leonardo da Vinci painted the Mona Lisa.\n",
    "✅ Answer: Leonardo da Vinci.\n",
    "----------------------------------------------------------------------\n",
    "🧠 Question 3: What does Tesla produce?\n",
    "📚 Retrieved Context: Tesla produces electric vehicles and solar products.\n",
    "✅ Answer: Tesla produces electric vehicles and solar products.\n",
    "----------------------------------------------------------------------\n",
    "🧠 Question 4: What is the speed of light?\n",
    "📚 Retrieved Context: The speed of light is about 299,792 kilometers per second.\n",
    "✅ Answer: The speed of light is about 299,792 kilometers per second.\n",
    "----------------------------------------------------------------------\n",
    "🧠 Question 5: Where does photosynthesis happen in plant cells?\n",
    "📚 Retrieved Context: Photosynthesis occurs in the chloroplasts of plant cells.\n",
    "✅ Answer: Chloroplasts.\n",
    "----------------------------------------------------------------------"
   ]
  }
 ],
 "metadata": {
  "language_info": {
   "name": "python"
  }
 },
 "nbformat": 4,
 "nbformat_minor": 5
}

{
 "cells": [
  {
   "cell_type": "code",
   "execution_count": null,
   "id": "8e197154",
   "metadata": {
    "vscode": {
     "languageId": "plaintext"
    }
   },
   "outputs": [],
   "source": [
    "# Let's write a LangChain version of the prompt-based sentiment analyzer using Ollama as the LLM model.\n",
    "from langchain_community.chat_models import ChatOllama\n",
    "from langchain.prompts import PromptTemplate\n",
    "from langchain.chains import LLMChain\n",
    "\n",
    "# Define the prompt template\n",
    "template = \"\"\"You are a sentiment analysis expert.\n",
    "\n",
    "Your task is to determine whether the sentiment of a text is Positive, Negative, or Neutral.\n",
    "Only Output Positive, Negative or Neutral\n",
    "\n",
    "Example:\n",
    "Input: I love this phone! The battery lasts all day.\n",
    "Output: Positive\n",
    "\n",
    "Input: I am disappointed with the camera quality.\n",
    "Output: Negative\n",
    "\n",
    "Input: The product arrived on time and works as expected.\n",
    "Output: Neutral\n",
    "\n",
    "Input: {text}\n",
    "Output:\"\"\"\n",
    "\n",
    "prompt = PromptTemplate.from_template(template)\n",
    "\n",
    "# Use the LangChain ChatOllama wrapper\n",
    "llm = ChatOllama(model=\"gemma3:4b\")\n",
    "chain = LLMChain(llm=llm, prompt=prompt)\n",
    "\n",
    "# Test with multiple inputs\n",
    "test_inputs = [\n",
    "    \"I love the camera quality and the performance is amazing!\",\n",
    "    \"This product is terrible and I want a refund.\",\n",
    "    \"It's just fine. Does what it says, nothing more.\",\n",
    "    \"Absolutely fantastic, exceeded my expectations!\"\n",
    "]\n",
    "\n",
    "results = [chain.run(text=inp) for inp in test_inputs]\n",
    "results\n"
   ]
  },
  {
   "cell_type": "code",
   "execution_count": null,
   "id": "8e73e7b8",
   "metadata": {
    "vscode": {
     "languageId": "plaintext"
    }
   },
   "outputs": [],
   "source": [
    "prompt = \"\"\"You are a sentiment analysis expert.\n",
    "\n",
    "Your task is to determine whether the sentiment of a text is Positive, Negative, or Neutral.\n",
    "Only Output Postive, Negative or Neutral\n",
    "\n",
    "Example:\n",
    "Input: I love this phone! The battery lasts all day.\n",
    "Output: Positive\n",
    "\n",
    "Input: I am disappointed with the camera quality.\n",
    "Output: Negative\n",
    "\n",
    "Input: The product arrived on time and works as expected.\n",
    "Output:\"\"\"\n",
    "\n",
    "input_text = \"This is okay, not great but not terrible either.\"\n",
    "\n",
    "full_prompt = prompt + \" \" + input_text\n",
    "\n",
    "response = ollama.chat(model=\"gemma3:4b\", messages=[{\"role\": \"user\", \"content\": full_prompt}])\n",
    "print(response['message']['content'])"
   ]
  }
 ],
 "metadata": {
  "language_info": {
   "name": "python"
  }
 },
 "nbformat": 4,
 "nbformat_minor": 5
}
